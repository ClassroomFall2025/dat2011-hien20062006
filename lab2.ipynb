{
 "cells": [
  {
   "cell_type": "markdown",
   "id": "fdeff819",
   "metadata": {},
   "source": [
    "# Sinh Viên thực hiện Lab 2 ở Đây"
   ]
  },
  {
   "cell_type": "markdown",
   "id": "acc5d7dc",
   "metadata": {},
   "source": [
    "## Lab 2 - Bài 1"
   ]
  },
  {
   "cell_type": "code",
   "execution_count": null,
   "id": "001e0507",
   "metadata": {},
   "outputs": [],
   "source": [
    "# Code lab 2 bài 1 ở đây\n",
    "baiTho = '''\n",
    "            Kiếp con người mỏng manh như là gió\n",
    "            Sống trên đời có được mấy lần vui\n",
    "            Sao phải đau mà không thể mỉm cười\n",
    "            Gắng buông nỗi ngậm ngùi nơi quá khứ\n",
    "\n",
    "            Nếu có thể sao ta không làm thử\n",
    "            Để tâm hồn khắc hai chữ bình an\n",
    "            Cho đôi chân bước thanh thản nhẹ nhàng\n",
    "            Dù hướng đời có muôn ngàn đá sỏi\n",
    "'''\n",
    "print(\"Bài thơ: \", baiTho)\n",
    "print(\"Kiểm tra 'con người' có trong bài thơ: \", 'con người' in baiTho)\n",
    "index_1 = baiTho.find('con người')\n",
    "len_con_nguoi = len('con người')\n",
    "index_2 = index_1 + len_con_nguoi\n",
    "trich_xuat_con_nguoi = baiTho[index_1:index_2]\n",
    "print(\"Từ trích ra: \", trich_xuat_con_nguoi)\n",
    "print('Chuyển từ \"con người\" thành chữ hoa: ', trich_xuat_con_nguoi.upper())"
   ]
  },
  {
   "cell_type": "markdown",
   "id": "c0835310",
   "metadata": {},
   "source": [
    "## Lab 2 - Bài 2"
   ]
  },
  {
   "cell_type": "code",
   "execution_count": null,
   "id": "fa9cb39f",
   "metadata": {},
   "outputs": [],
   "source": [
    "# Code lab 2  bài 2 ở đây\n",
    "tho1 = '''\n",
    "            Kiếp con người mỏng manh như là gió\n",
    "            Sống trên đời có được mấy lần vui\n",
    "            Sao phải đau mà không thể mỉm cười\n",
    "            Gắng buông nỗi ngậm ngùi nơi quá khứ\n",
    "\n",
    "            Nếu có thể sao ta không làm thử\n",
    "            Để tâm hồn khắc hai chữ bình an\n",
    "            Cho đôi chân bước thanh thản nhẹ nhàng\n",
    "            Dù hướng đời có muôn ngàn đá sỏi\n",
    "'''\n",
    "tho2 = tho1.replace(\"bình an\", \"hạnh phúc\")\n",
    "tho2 = \"...\" + tho2 + \"...\"\n",
    "print(tho2)"
   ]
  },
  {
   "cell_type": "markdown",
   "id": "0f2483fe",
   "metadata": {},
   "source": [
    "## Lab 2 - Bài 3"
   ]
  },
  {
   "cell_type": "code",
   "execution_count": null,
   "id": "7034990b",
   "metadata": {},
   "outputs": [],
   "source": [
    "# Code lab 2  bài 3 ở đây\n",
    "a = float(input(\"Nhập số a: \"))\n",
    "b = float(input(\"Nhập số b: \"))\n",
    "phuong_trinh = f\"{a}x + {b} = 0\"\n",
    "if a==0:\n",
    "    if b==0:\n",
    "        print(\"Phương trình vô số nghiệm\")\n",
    "    else:\n",
    "        print(\"Phương trình vô nghiệm\")\n",
    "else:\n",
    "    x = -b/a\n",
    "    print(\"Phương trình có nghiệm x = \", x)"
   ]
  },
  {
   "cell_type": "markdown",
   "id": "d36ea3d3",
   "metadata": {},
   "source": [
    "## Lab 2 - Bài 4"
   ]
  },
  {
   "cell_type": "code",
   "execution_count": null,
   "id": "4c707ec1",
   "metadata": {},
   "outputs": [],
   "source": [
    "# code lab 2 bài 4 ở đây\n",
    "import math\n",
    "a = int(input(\"Nhập số a: \"))\n",
    "b = int(input(\"Nhập số b: \"))\n",
    "c = int(input(\"Nhập số c: \"))\n",
    "if a==0:\n",
    "    phương_trình_bậc_nhất = f\"{b}x + {c} = 0\"\n",
    "    x = -c/b\n",
    "    print(\"Phương trình có nghiệm x = \", x)\n",
    "elif a != 0:\n",
    "    phương_trình_bậc_hai = f\"{a}x^2 + {b}x + {c} = 0\"\n",
    "    delta = b**2 - 4*a*c\n",
    "    if delta < 0:\n",
    "        print(\"Phương trình vô nghiệm\")\n",
    "    elif delta == 0:\n",
    "        x = -b/(2*a)\n",
    "        print(\"Phương trình có nghiệm kép x1 = x2 = \", x)\n",
    "    else:\n",
    "        x1 = (-b + math.sqrt(delta)) / (2*a)\n",
    "        x2 = (-b - math.sqrt(delta)) / (2*a)\n",
    "        print(\"Phương trình có hai nghiệm phân biệt: \")\n",
    "        print(\"x1 = \", x1)\n",
    "        print(\"x2 = \", x2)"
   ]
  },
  {
   "cell_type": "markdown",
   "id": "e2b41d4a",
   "metadata": {},
   "source": [
    "## Lab 2 - Bài 5: bài tập làm thêm"
   ]
  },
  {
   "cell_type": "code",
   "execution_count": null,
   "id": "0e0172f7",
   "metadata": {},
   "outputs": [],
   "source": [
    "# code lab 2  bài làm thêm ở đây \n",
    "import math\n",
    "a = int(input(\"Nhập số a: \"))\n",
    "b = int(input(\"Nhập số b: \"))\n",
    "x = int(input(\"Nhập số x: \"))\n",
    "y = int(input(\"Nhập số y: \"))\n",
    "goc = int(input(\"Nhập góc (độ): \"))\n",
    "operation = input(\"Nhập phép toán (+, -, *, /, ^, √, sin, cos, tan, log): \")\n",
    "goc = math.radians(goc)\n",
    "# +, -, *, /\n",
    "if operation == '+':\n",
    "    result = a + b\n",
    "    print(f\"Kết quả của biểu thức {a} + {b} là: {result}\")\n",
    "elif operation == '-':\n",
    "    result = a - b\n",
    "    print(f\"Kết quả của biểu thức {a} - {b} là: {result}\")\n",
    "elif operation == '*':\n",
    "    result = a * b\n",
    "    print(f\"Kết quả của biểu thức {a} * {b} là: {result}\")\n",
    "elif operation == '/':\n",
    "    if b != 0:\n",
    "        result = a / b\n",
    "        print(f\"Kết quả của biểu thức {a} / {b} là: {result}\")\n",
    "    else:\n",
    "        print(\"Không thể chia cho 0\")\n",
    "# Lũy thừa: x^y\n",
    "elif operation == '^':\n",
    "    result = x ** y\n",
    "    print(f\"Kết quả của biểu thức {x}^{y} là: {result}\")\n",
    "# Căn bậc hai: √x\n",
    "elif operation == '√':\n",
    "    if x >= 0:\n",
    "        result = math.sqrt(x)\n",
    "        print(f\"Kết quả của biểu thức √{x} là: {result}\")\n",
    "    else:\n",
    "        print(\"Không thể tính căn bậc hai của số âm\")\n",
    "# Hàm lượng giác: sin, cos, tan\n",
    "elif operation == 'sin':\n",
    "    result = math.sin(goc)\n",
    "    print(f\"Kết quả của biểu thức sin({goc}) là: {result}\")\n",
    "elif operation == 'cos':\n",
    "    result = math.cos(goc)\n",
    "    print(f\"Kết quả của biểu thức cos({goc}) là: {result}\")\n",
    "elif operation == 'tan':\n",
    "    result = math.tan(goc)\n",
    "    print(f\"Kết quả của biểu thức tan({goc}) là: {result}\")\n",
    "# Logarit\n",
    "elif operation == 'log':\n",
    "    if x > 0:\n",
    "        result = math.log10(x)\n",
    "        print(f\"Kết quả của biểu thức log({x}) là: {result}\")\n",
    "        if y > 0 and y != 1:\n",
    "            result_base_y = math.log(x, y)\n",
    "            print(f\"Kết quả của biểu thức log base {y} của {x} là: {result_base_y}\")\n",
    "        else:\n",
    "            print(\"Cơ số y phải lớn hơn 0 và khác 1 để tính logarit cơ số y\")\n",
    "    else:\n",
    "        print(\"Không thể tính logarit của số âm hoặc số 0\")"
   ]
  },
  {
   "cell_type": "code",
   "execution_count": null,
   "id": "fa0382db",
   "metadata": {},
   "outputs": [],
   "source": [
    "number_1 = int(input(\"Nhập số 1: \"))\n",
    "number_2 = int(input(\"Nhập số 2: \"))\n",
    "operator = input(\"Nhập phép toán (+, -, *, /): \")\n",
    "if operator == '+':\n",
    "    result = number_1 + number_2\n",
    "    print(f\"Kết quả: {number_1} + {number_2} = {result}\")\n",
    "if operator == '*':\n",
    "    result = number_1 * number_2\n",
    "    print(f\"Kết quả: {number_1} * {number_2} = {result}\")\n",
    "if operator == '-':\n",
    "    result = number_1 - number_2\n",
    "    print(f\"Kết quả: {number_1} - {number_2} = {result}\")\n",
    "if operator == '/':\n",
    "    result = number_1 / number_2\n",
    "    print(f\"Kết quả: {number_1} / {number_2} = {result}\")"
   ]
  },
  {
   "cell_type": "code",
   "execution_count": null,
   "id": "f517276d",
   "metadata": {},
   "outputs": [],
   "source": [
    "import cmath\n",
    "a = int(input(\"Nhập số a: \"))\n",
    "b = int(input(\"Nhập số b: \"))\n",
    "c = int(input(\"Nhập số c: \"))\n",
    "delta = b*b - 4*a*c\n",
    "if delta >= 0:\n",
    "  can_bac_2 = cmath.sqrt(delta)\n",
    "  print(\"Căn bậc 2 của delta là \", can_bac_2)\n",
    "else:\n",
    "  print(\"Delta âm, không có căn bậc 2\")"
   ]
  },
  {
   "cell_type": "code",
   "execution_count": null,
   "id": "fa814cb0",
   "metadata": {},
   "outputs": [],
   "source": [
    "number_1 = int(input(\"Nhập số 1: \"))\n",
    "number_2 = int(input(\"Nhập số 2: \"))\n",
    "operator = input(\"Nhập phép toán (+, -, *, /): \")\n",
    "if operator == '+':\n",
    "    result = number_1 + number_2\n",
    "    print(f\"Kết quả: {number_1} + {number_2} = {result}\")\n",
    "elif operator == '-':\n",
    "    result = number_1 - number_2\n",
    "    print(f\"Kết quả: {number_1} - {number_2} = {result}\")\n",
    "elif operator == '*':\n",
    "    result = number_1 * number_2\n",
    "    print(f\"Kết quả: {number_1} * {number_2} = {result}\")\n",
    "elif operator == '/':\n",
    "    if number_2 == 0:\n",
    "        print(\"Lỗi: Không thể chia cho 0\")\n",
    "    else:\n",
    "        result = number_1 / number_2\n",
    "        print(f\"Kết quả: {number_1} / {number_2} = {result}\")\n"
   ]
  },
  {
   "cell_type": "code",
   "execution_count": null,
   "id": "c8f03183",
   "metadata": {},
   "outputs": [],
   "source": [
    "a = int(input(\"Nhập số a: \"))\n",
    "b = int(input(\"Nhập số b: \"))\n",
    "#if a > b:\n",
    "#    print(f\"Số lớn hơn là: {a}\")\n",
    "#elif:\n",
    "#    print(f\"Số lớn hơn là: {b}\")\n",
    "max_2so = a if a>b else b\n",
    "print(f\"Số lớn nhất là: {max_2so}\")"
   ]
  }
 ],
 "metadata": {
  "kernelspec": {
   "display_name": "Python 3",
   "language": "python",
   "name": "python3"
  },
  "language_info": {
   "name": "python",
   "version": "3.13.2"
  }
 },
 "nbformat": 4,
 "nbformat_minor": 5
}

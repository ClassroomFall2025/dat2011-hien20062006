{
 "cells": [
  {
   "cell_type": "markdown",
   "id": "fdeff819",
   "metadata": {},
   "source": [
    "# Sinh Viên thực hiện Lab 3 ở Đây"
   ]
  },
  {
   "cell_type": "markdown",
   "id": "acc5d7dc",
   "metadata": {},
   "source": [
    "## Lab 3 - Bài 1"
   ]
  },
  {
   "cell_type": "code",
   "execution_count": 47,
   "id": "001e0507",
   "metadata": {},
   "outputs": [
    {
     "name": "stdout",
     "output_type": "stream",
     "text": [
      "55\n"
     ]
    }
   ],
   "source": [
    "# Code lab 3 bài 1 ở đây\n",
    "dãy_số = []\n",
    "while True:\n",
    "    số = input('Nhập số: ')\n",
    "    if số == 'e':\n",
    "        print('Thoát chương trình')\n",
    "        break\n",
    "    else:\n",
    "        try:\n",
    "            phần_tử = int(số)\n",
    "            dãy_số.append(phần_tử)\n",
    "        except ValueError:\n",
    "            print('Vui lòng nhập lại số hoặc e để thoát')\n",
    "            continue\n",
    "print('Dãy số hiện tại:', dãy_số)\n",
    "# Dãy số tăng dần\n",
    "dãy_số.sort()\n",
    "print('Dãy số sau khi sắp xếp:', dãy_số)\n",
    "# Dãy số giảm dần\n",
    "dãy_số.sort(reverse=True)\n",
    "print('Dãy số sau khi sắp xếp ngược:', dãy_số)\n",
    "# Tìm số lớn nhất và nhỏ nhất trong dãy số\n",
    "dãy_số_max = max(dãy_số)\n",
    "dãy_số_min = min(dãy_số)\n",
    "print('Số lớn nhất trong dãy số là:', dãy_số_max)\n",
    "print('Số nhỏ nhất trong dãy số là:', dãy_số_min)\n",
    "Tổng = 0\n",
    "dem = 0\n",
    "for phần_tử in dãy_số:\n",
    "    if phần_tử % 3 == 0:\n",
    "        Tổng += phần_tử\n",
    "        dem += 1\n",
    "print(f'Tổng các số chia hết cho 3 là: {Tổng}')\n",
    "if dem > 0:\n",
    "    kết_quả = Tổng / dem\n",
    "else:\n",
    "    kết_quả = 0\n",
    "print(f'Trung bình các số chia hết cho 3 là: {kết_quả}')"
   ]
  },
  {
   "cell_type": "markdown",
   "id": "c0835310",
   "metadata": {},
   "source": [
    "## Lab 3 - Bài 2"
   ]
  },
  {
   "cell_type": "code",
   "execution_count": 2,
   "id": "fa9cb39f",
   "metadata": {},
   "outputs": [
    {
     "name": "stdout",
     "output_type": "stream",
     "text": [
      "Danh sách sinh viên:  [{'Ho ten': 'kjkkkkk', 'Diem': 5.0, 'Hoc luc': 'Trung bình'}, {'Ho ten': 'kjkkkkk', 'Diem': 5.0, 'Hoc luc': 'Trung bình'}, {'Ho ten': 'kjkkkkk', 'Diem': 5.0, 'Hoc luc': 'Trung bình'}, {'Ho ten': 'kjkkkkk', 'Diem': 5.0, 'Hoc luc': 'Trung bình'}, {'Ho ten': 'kjkkkkk', 'Diem': 5.0, 'Hoc luc': 'Trung bình'}, {'Ho ten': 'kjkkkkk', 'Diem': 5.0, 'Hoc luc': 'Trung bình'}, {'Ho ten': 'kjkkkkk', 'Diem': 5.0, 'Hoc luc': 'Trung bình'}]\n"
     ]
    }
   ],
   "source": [
    "# Code lab 3  bài 2 ở đây\n",
    "#sinh_vien = {\n",
    "#    \"Họ tên\":\"\",\n",
    "#    \"Điểm\":\"\"\n",
    "#}\n",
    "# Nhập thông tin sinh viên\n",
    "#ho_ten = input(\"Nhập họ tên sinh viên: \")\n",
    "#diem = float(input(\"Nhập điểm sinh viên: \"))\n",
    "#sinh_vien[\"Họ tên\"] = ho_ten\n",
    "#sinh_vien[\"Điểm\"] = diem\n",
    "#if diem >= 9 and diem <= 10:\n",
    "#    hoc_luc = \"Xuất sắc\"\n",
    "#elif diem >= 8:\n",
    "#    hoc_luc = \"Giỏi\"\n",
    "#elif diem >= 7:\n",
    "#    hoc_luc = \"Khá\"\n",
    "#elif diem >= 5:\n",
    "#    hoc_luc = \"Trung bình\"\n",
    "#else: \n",
    "#    hoc_luc = \"Chua đạt\"\n",
    "#Sinh_vien[\"Học lực\"] = hoc_luc\n",
    "#print(sinh_vien)\n",
    "\n",
    "ds_sinhvien = []\n",
    "sinh_vien = {}\n",
    "while True:\n",
    "    ho_ten = input(\"Nhập họ tên sinh viên: \")\n",
    "    if ho_ten.lower() == \"q\":\n",
    "        break\n",
    "    else:\n",
    "        diem = float(input(\"Nhập điểm sinh viên: \"))\n",
    "        if diem >= 9 and diem <= 10:\n",
    "            hoc_luc = \"Xuất sắc\"\n",
    "        elif diem >= 8:\n",
    "            hoc_luc = \"Giỏi\"\n",
    "        elif diem >= 7:\n",
    "            hoc_luc = \"Khá\"\n",
    "        elif diem >= 5:\n",
    "            hoc_luc = \"Trung bình\"\n",
    "        else: \n",
    "            hoc_luc = \"Chua đạt\"\n",
    "        sinh_vien[\"Ho ten\"] = ho_ten\n",
    "        sinh_vien[\"Diem\"] = diem\n",
    "        sinh_vien[\"Hoc luc\"] = hoc_luc\n",
    "        ds_sinhvien.append(sinh_vien)\n",
    "print(\"Danh sách sinh viên: \", ds_sinhvien)"
   ]
  },
  {
   "cell_type": "markdown",
   "id": "0f2483fe",
   "metadata": {},
   "source": [
    "## Lab 3 - Bài 3"
   ]
  },
  {
   "cell_type": "code",
   "execution_count": null,
   "id": "7034990b",
   "metadata": {},
   "outputs": [],
   "source": [
    "# Code lab 3  bài 3 ở đây\n",
    "n = int(input('Nhập số: '))\n",
    "ok = True\n",
    "if n < 2:\n",
    "    ok = False\n",
    "else:\n",
    "    i = 2\n",
    "    while i < (n -1):\n",
    "        if n % i == 0:\n",
    "            ok = False\n",
    "            break\n",
    "        i += 1\n",
    "if ok:\n",
    "    print(f'{n} là số nguyên tố')\n",
    "else:\n",
    "    print(f'{n} không phải là số nguyên tố')"
   ]
  },
  {
   "cell_type": "markdown",
   "id": "d36ea3d3",
   "metadata": {},
   "source": [
    "## Lab 3 - Bài 4"
   ]
  },
  {
   "cell_type": "code",
   "execution_count": null,
   "id": "4c707ec1",
   "metadata": {},
   "outputs": [],
   "source": [
    "# code lab 3 bài 4 ở đây\n",
    "n = int(input(\"Nhập một số để in bảng cửu chương: \"))\n",
    "print(\"Bảng cửu chương của\", n)\n",
    "for i in range(1, 11):\n",
    "    print(\"%d x %d = %d\" % (n, i, n * i))\n",
    "# code lab 3 bài 4 ở đây\n",
    "print(\"Bảng cửu chương từ 1 đến 9\")\n",
    "for j in range(1, 11): \n",
    "    for i in range(1, 10):\n",
    "        print(\"%2d x %d = %-2d\" % (i, j, i * j), end=\"\\t\")\n",
    "    print()\n",
    "print()"
   ]
  },
  {
   "cell_type": "markdown",
   "id": "e2b41d4a",
   "metadata": {},
   "source": [
    "## Lab 3 - Bài 5: bài tập làm thêm"
   ]
  },
  {
   "cell_type": "code",
   "execution_count": 10,
   "id": "0e0172f7",
   "metadata": {},
   "outputs": [
    {
     "name": "stdout",
     "output_type": "stream",
     "text": [
      "Lựa chọn không hợp lệ\n"
     ]
    }
   ],
   "source": [
    "# code lab 3  bài làm thêm ở đây \n",
    "import math; from datetime import datetime\n",
    "menu = \"\"\"\n",
    "        1. Phep tinh co ban: Cong, tru, nhan, chia\n",
    "        2. Luy thua: Tinh x^y\n",
    "        3. Can bac hai: Tinh √x\n",
    "        4. Ham luong giac: Sin, cos, tan\n",
    "        5. Logarit: Log co so 10, ln, log co so tuy chon\n",
    "        6. Giai phuong trinh bac nhat\n",
    "        7. Giai phuong trinh bac 2\n",
    "        8. Lich su: Luu va xem lai cac phep tinh da thuc hien\n",
    "        9. Thoi gian: Hien thi thoi gian hien tai\n",
    "        10. Giao dien than thien: Menu de su dung bang tieng Viet\n",
    "        \"\"\"\n",
    "while True:\n",
    "    print(menu)\n",
    "    lựa_chọn = input(\"Mời bạn chọn: \")\n",
    "    match lựa_chọn:\n",
    "        case '1':\n",
    "            print(\"Phép toán cơ bản\")\n",
    "            x = int(input('Nhập số: '))\n",
    "            y = int(input('Nhập số: '))\n",
    "            print(f'{x} + {y} = {x + y}')\n",
    "            print(f'{x} - {y} = {x - y}')\n",
    "            print(f'{x} * {y} = {x * y}')\n",
    "            print(f'{x} / {y} = {x / y}')\n",
    "        case '2':\n",
    "            print(\"Lũy thừa\")\n",
    "            x = int(input('Nhập số: '))\n",
    "            y = int(input('Nhập số: '))\n",
    "            print(f'{x} ^ {y} = {x ** y}')\n",
    "        case '3':\n",
    "            print(\"Căn bậc hai\")\n",
    "            x = int(input('Nhập số: '))\n",
    "            print(f'√{x} = {x ** 0.5}')\n",
    "        case '4':\n",
    "            print(\"Hàm lượng giác\")\n",
    "            x = int(input('Nhập số: '))\n",
    "            print(f'sin({x}) = {math.sin(x)}')\n",
    "            print(f'cos({x}) = {math.cos(x)}')\n",
    "            print(f'tan({x}) = {math.tan(x)}')\n",
    "        case '5':\n",
    "            print(\"Logarit\")\n",
    "            x = int(input('Nhập số: '))\n",
    "            print(f'log10({x}) = {math.log10(x)}')\n",
    "            print(f'ln({x}) = {math.log(x)}')\n",
    "            y = int(input('Nhập cơ số tùy chọn: '))\n",
    "            print(f'log_{y}({x}) = {math.log(x, y)}')\n",
    "        case '6':\n",
    "            print(\"Giải phương trình bậc nhất\")\n",
    "            a = int(input('Nhập hệ số a: '))\n",
    "            b = int(input('Nhập hệ số b: '))\n",
    "            if a != 0:\n",
    "                print(f'Nghiệm của phương trình {a}x + {b} = 0 là: {-b / a}')\n",
    "            else:\n",
    "                print(\"Phương trình vô nghiệm\")\n",
    "        case '7':\n",
    "            print(\"Giải phương trình bậc hai\")\n",
    "            a = int(input('Nhập hệ số a: '))\n",
    "            b = int(input('Nhập hệ số b: '))\n",
    "            c = int(input('Nhập hệ số c: '))\n",
    "            delta = b ** 2 - 4 * a * c\n",
    "            if delta > 0:\n",
    "                x1 = (-b + delta ** 0.5) / (2 * a)\n",
    "                x2 = (-b - delta ** 0.5) / (2 * a)\n",
    "                print(f'Nghiệm của phương trình {a}x^2 + {b}x + {c} = 0 là: {x1} và {x2}')\n",
    "            elif delta == 0:\n",
    "                x = -b / (2 * a)\n",
    "                print(f'Nghiệm của phương trình {a}x^2 + {b}x + {c} = 0 là: {x}')\n",
    "            else:\n",
    "                print(\"Phương trình vô nghiệm\")\n",
    "        case '8':\n",
    "            print(\"Lịch sử\")\n",
    "            history = []\n",
    "            while True:\n",
    "                x = int(input('Nhập số: '))\n",
    "                y = int(input('Nhập số: '))\n",
    "                print(f'{x} + {y} = {x + y}')\n",
    "                history.append((x, y, 'add', x + y))\n",
    "                if input(\"Bạn có muốn tiếp tục không? (y/n): \") == 'n':\n",
    "                    break\n",
    "            print(\"Lịch sử phép toán:\")\n",
    "            for h in history:\n",
    "                print(f'{h[0]} + {h[1]} = {h[3]}')\n",
    "        case '9':\n",
    "            print(\"Thời gian\")\n",
    "            from datetime import datetime\n",
    "            now = datetime.now()\n",
    "            print(\"Thời gian hiện tại:\", now.strftime(\"%Y-%m-%d %H:%M:%S\"))\n",
    "        case '10':\n",
    "            print(\"Giao diện thân thiện\")\n",
    "            print(menu)\n",
    "        case _:\n",
    "            print(\"Lựa chọn không hợp lệ, vui lòng chọn lại\")\n",
    "            break"
   ]
  },
  {
   "cell_type": "code",
   "execution_count": 3,
   "id": "adf6ab98",
   "metadata": {},
   "outputs": [
    {
     "name": "stdout",
     "output_type": "stream",
     "text": [
      "[1, 2, 4.5, 'python', [3, 4], (2+3j)]\n"
     ]
    }
   ],
   "source": [
    "my_list =[1,2,4.5,\"python\",[3,4],2+3j]\n",
    "print(my_list)"
   ]
  },
  {
   "cell_type": "code",
   "execution_count": 4,
   "id": "ed22266a",
   "metadata": {},
   "outputs": [
    {
     "name": "stdout",
     "output_type": "stream",
     "text": [
      "[]\n"
     ]
    }
   ],
   "source": [
    "# khoi tao danh sach rong\n",
    "my_list =[]\n",
    "print(my_list)"
   ]
  },
  {
   "cell_type": "code",
   "execution_count": 5,
   "id": "47a8c187",
   "metadata": {},
   "outputs": [
    {
     "name": "stdout",
     "output_type": "stream",
     "text": [
      "hello\n",
      "hello\n"
     ]
    }
   ],
   "source": [
    "my_list =[1,2,5,\"hello\",[4,5]]\n",
    "print(my_list[3])\n",
    "print(my_list[-2])"
   ]
  },
  {
   "cell_type": "code",
   "execution_count": 8,
   "id": "ba5d54b4",
   "metadata": {},
   "outputs": [
    {
     "name": "stdout",
     "output_type": "stream",
     "text": [
      "1\n",
      "2\n",
      "4.5\n",
      "python\n",
      "[3, 4]\n",
      "(2+3j)\n"
     ]
    }
   ],
   "source": [
    "my_list = [1,2,4.5,\"python\",[3,4],2+3j]\n",
    "for item in my_list:\n",
    "    print(item)"
   ]
  },
  {
   "cell_type": "code",
   "execution_count": 10,
   "id": "d5446659",
   "metadata": {},
   "outputs": [
    {
     "name": "stdout",
     "output_type": "stream",
     "text": [
      "(0, 1)\n",
      "(1, 2)\n",
      "(2, 4.5)\n",
      "(3, 'python')\n",
      "(4, [3, 4])\n",
      "(5, (2+3j))\n"
     ]
    }
   ],
   "source": [
    "#dung ham enumerate\n",
    "my_list =[1,2,4.5,\"python\",[3,4],2+3j]\n",
    "for items in enumerate(my_list):\n",
    "    print(items)"
   ]
  },
  {
   "cell_type": "code",
   "execution_count": 30,
   "id": "7a5fbcac",
   "metadata": {},
   "outputs": [
    {
     "name": "stdout",
     "output_type": "stream",
     "text": [
      "[1, 2]\n",
      "[[3, 4], (2+3j)]\n"
     ]
    }
   ],
   "source": [
    "my_list = [1,2,4.5,\"python\",[3,4],2+3j]\n",
    "sub_list1 = my_list[:2]\n",
    "sub_list2 = my_list[-2:]\n",
    "print(sub_list1)\n",
    "print(sub_list2)"
   ]
  },
  {
   "cell_type": "code",
   "execution_count": 32,
   "id": "38ab7632",
   "metadata": {},
   "outputs": [
    {
     "name": "stdout",
     "output_type": "stream",
     "text": [
      "6\n"
     ]
    }
   ],
   "source": [
    "my_list = [1,2,4.5,\"python\",[3,4],2+3j]\n",
    "len_list= len(my_list)\n",
    "print(len_list)\n"
   ]
  },
  {
   "cell_type": "code",
   "execution_count": 38,
   "id": "cb6b9fac",
   "metadata": {},
   "outputs": [
    {
     "name": "stdout",
     "output_type": "stream",
     "text": [
      "[1, 2, 4.5, 'python', [3, 4], (2+3j), 'Data Science']\n",
      "[1, 2, 4.5, 'python', [3, 4], (2+3j), 'Data Science', [7, 8, 9]]\n"
     ]
    }
   ],
   "source": [
    "#append(): thêm phần tử cuối list\n",
    "my_list= [1,2,4.5,\"python\",[3,4],2+3j]\n",
    "my_list.append(\"Data Science\")\n",
    "print(my_list)\n",
    "my_list.append([7,8,9])\n",
    "print(my_list)"
   ]
  },
  {
   "cell_type": "code",
   "execution_count": 40,
   "id": "ecbfb446",
   "metadata": {},
   "outputs": [
    {
     "name": "stdout",
     "output_type": "stream",
     "text": [
      "[1, 2, 'Data Science', 4.5, 'python', [3, 4], (2+3j)]\n",
      "[[10, 20, 30], 1, 2, 'Data Science', 4.5, 'python', [3, 4], (2+3j)]\n"
     ]
    }
   ],
   "source": [
    "my_list= [1,2,4.5,\"python\",[3,4],2+3j]\n",
    "my_list.insert(2,\"Data Science\")\n",
    "print(my_list)\n",
    "my_list.insert(0,[10,20,30])\n",
    "print(my_list)"
   ]
  },
  {
   "cell_type": "code",
   "execution_count": 41,
   "id": "c5a33737",
   "metadata": {},
   "outputs": [
    {
     "name": "stdout",
     "output_type": "stream",
     "text": [
      "['a', 'b', 'c', 'a', 'b', 'c']\n"
     ]
    }
   ],
   "source": [
    "my_list =[1,2,3]\n",
    "my_list =[\"a\",\"b\",\"c\"]\n",
    "my_list.extend(my_list)\n",
    "print(my_list)"
   ]
  },
  {
   "cell_type": "code",
   "execution_count": null,
   "id": "1793c24d",
   "metadata": {},
   "outputs": [],
   "source": [
    "x = 10\n",
    "while x >= 10:\n",
    "    if x % 3 == 0:\n",
    "        x -= 1\n",
    "        coutinue\n",
    "    print(x)\n",
    "x -= 1"
   ]
  },
  {
   "cell_type": "code",
   "execution_count": 5,
   "id": "8dcded37",
   "metadata": {},
   "outputs": [
    {
     "name": "stdout",
     "output_type": "stream",
     "text": [
      "Bạn chọn số 2\n"
     ]
    }
   ],
   "source": [
    "# Ví dụ 1: Menu đơn giản\n",
    "lua_chon = input(\"Chọn (1/2/3): \")\n",
    "\n",
    "match lua_chon:\n",
    "    case \"1\":\n",
    "        print(\"Bạn chọn số 1\")\n",
    "    case \"2\":\n",
    "        print(\"Bạn chọn số 2\")\n",
    "    case \"3\":\n",
    "        print(\"Bạn chọn số 3\")\n",
    "    case _:  # _ là wildcard (thay thế else)\n",
    "        print(\"Lựa chọn không hợp lệ\")"
   ]
  },
  {
   "cell_type": "code",
   "execution_count": 12,
   "id": "ab2eb1f5",
   "metadata": {},
   "outputs": [
    {
     "name": "stdout",
     "output_type": "stream",
     "text": [
      "1. Phep tinh co ban: Cong, tru, nhan, chia\n",
      "        2. Luy thua: Tinh x^y\n",
      "        3. Can bac hai: Tinh √x\n",
      "        4. Ham luong giac: Sin, cos, tan\n",
      "        5. Logarit: Log co so 10, ln, log co so tuy chon\n",
      "        6. Giai phuong trinh bac nhat\n",
      "        7. Giai phuong trinh bac 2\n",
      "        8. Lich su: Luu va xem lai cac phep tinh da thuc hien\n",
      "        9. Thoi gian: Hien thi thoi gian hien tai\n",
      "        10. Giao dien than thien: Menu de su dung bang tieng Viet\n"
     ]
    },
    {
     "name": "stdout",
     "output_type": "stream",
     "text": [
      "Luy thua: Tinh x^y\n",
      "1. Phep tinh co ban: Cong, tru, nhan, chia\n",
      "        2. Luy thua: Tinh x^y\n",
      "        3. Can bac hai: Tinh √x\n",
      "        4. Ham luong giac: Sin, cos, tan\n",
      "        5. Logarit: Log co so 10, ln, log co so tuy chon\n",
      "        6. Giai phuong trinh bac nhat\n",
      "        7. Giai phuong trinh bac 2\n",
      "        8. Lich su: Luu va xem lai cac phep tinh da thuc hien\n",
      "        9. Thoi gian: Hien thi thoi gian hien tai\n",
      "        10. Giao dien than thien: Menu de su dung bang tieng Viet\n"
     ]
    }
   ],
   "source": [
    "menu =\"\"\"1. Phep tinh co ban: Cong, tru, nhan, chia\n",
    "        2. Luy thua: Tinh x^y\n",
    "        3. Can bac hai: Tinh √x\n",
    "        4. Ham luong giac: Sin, cos, tan\n",
    "        5. Logarit: Log co so 10, ln, log co so tuy chon\n",
    "        6. Giai phuong trinh bac nhat\n",
    "        7. Giai phuong trinh bac 2\n",
    "        8. Lich su: Luu va xem lai cac phep tinh da thuc hien\n",
    "        9. Thoi gian: Hien thi thoi gian hien tai\n",
    "        10. Giao dien than thien: Menu de su dung bang tieng Viet\"\"\"\n",
    "while True:\n",
    "    print(menu)\n",
    "    LuaChon=input(\"Nhập lua chon cua ban\")\n",
    "    match LuaChon :\n",
    "        case \"0\":\n",
    "            print(\"thoat chuong trinh\")\n",
    "            break\n",
    "        case \"1\":\n",
    "            print(\"phep tinh co ban: Cong, tru, nhan, chia\")\n",
    "        case \"2\":\n",
    "            print(\"Luy thua: Tinh x^y\")\n",
    "        case \"3\":\n",
    "            print(\"Can bac hai: Tinh √x\")\n",
    "        case \"4\":\n",
    "            print(\"Ham luong giac: Sin, cos, tan\")\n",
    "        case \"5\":\n",
    "            print(\"Logarit: Log co so 10, ln, log co so tuy chon\")\n",
    "        case \"6\":\n",
    "            print(\"Giai phuong trinh bac nhat\")\n",
    "        case \"7\":\n",
    "            print(\"Giai phuong trinh bac 2\")\n",
    "        case \"8\":\n",
    "            print(\"Lich su: Luu va xem lai cac phep tinh da thuc hien\")\n",
    "        case \"9\":\n",
    "            print(\"Thoi gian: Hien thi thoi gian hien tai\")\n",
    "        case \"10\":\n",
    "            print(\"Giao dien than thien: Menu de su dung bang tieng Viet\")\n",
    "\n",
    "\n",
    "\n",
    "\n",
    "\n",
    "\n",
    "\n"
   ]
  },
  {
   "cell_type": "code",
   "execution_count": null,
   "id": "89907994",
   "metadata": {},
   "outputs": [],
   "source": [
    "\n",
    "\n"
   ]
  }
 ],
 "metadata": {
  "kernelspec": {
   "display_name": "Python 3",
   "language": "python",
   "name": "python3"
  },
  "language_info": {
   "codemirror_mode": {
    "name": "ipython",
    "version": 3
   },
   "file_extension": ".py",
   "mimetype": "text/x-python",
   "name": "python",
   "nbconvert_exporter": "python",
   "pygments_lexer": "ipython3",
   "version": "3.13.7"
  }
 },
 "nbformat": 4,
 "nbformat_minor": 5
}
